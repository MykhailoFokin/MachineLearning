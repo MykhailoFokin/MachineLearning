{
  "nbformat": 4,
  "nbformat_minor": 0,
  "metadata": {
    "colab": {
      "name": "simple_classification_with_MSE.ipynb",
      "provenance": [],
      "collapsed_sections": [],
      "include_colab_link": true
    },
    "kernelspec": {
      "name": "python3",
      "display_name": "Python 3"
    }
  },
  "cells": [
    {
      "cell_type": "markdown",
      "metadata": {
        "id": "view-in-github",
        "colab_type": "text"
      },
      "source": [
        "<a href=\"https://colab.research.google.com/github/MykhailoFokin/MachineLearning/blob/Dev/simple_classification_with_MSE.ipynb\" target=\"_parent\"><img src=\"https://colab.research.google.com/assets/colab-badge.svg\" alt=\"Open In Colab\"/></a>"
      ]
    },
    {
      "cell_type": "code",
      "metadata": {
        "id": "iyPNlcb6nKgy",
        "colab_type": "code",
        "colab": {}
      },
      "source": [
        "import os\n",
        "import cv2\n",
        "import fnmatch\n",
        "import numpy as np\n",
        "\n",
        "from sklearn.metrics import mean_squared_error"
      ],
      "execution_count": 0,
      "outputs": []
    },
    {
      "cell_type": "code",
      "metadata": {
        "id": "bVOSURUpYlBh",
        "colab_type": "code",
        "outputId": "71ef6907-fc8a-478d-e0f5-2c5bd5bf8f9e",
        "colab": {
          "base_uri": "https://localhost:8080/",
          "height": 102
        }
      },
      "source": [
        "#Copy images from repo to colab\n",
        "!git clone https://github.com/SilvesterHsu/ORLFaceRecognition-PCA.git"
      ],
      "execution_count": 3,
      "outputs": [
        {
          "output_type": "stream",
          "text": [
            "Cloning into 'ORLFaceRecognition-PCA'...\n",
            "remote: Enumerating objects: 604, done.\u001b[K\n",
            "remote: Total 604 (delta 0), reused 0 (delta 0), pack-reused 604\u001b[K\n",
            "Receiving objects: 100% (604/604), 3.59 MiB | 2.75 MiB/s, done.\n",
            "Resolving deltas: 100% (93/93), done.\n"
          ],
          "name": "stdout"
        }
      ]
    },
    {
      "cell_type": "code",
      "metadata": {
        "id": "OeWSRAG2l6xx",
        "colab_type": "code",
        "outputId": "9458721f-9681-4fca-f6c2-4820e5dbdcf6",
        "colab": {
          "base_uri": "https://localhost:8080/",
          "height": 34
        }
      },
      "source": [
        "test_matrix = []\n",
        "train_matrix = []\n",
        "\n",
        "test_labels = []\n",
        "train_labels = []\n",
        "\n",
        "# read folder structure with files and put it to collection\n",
        "folder = []\n",
        "for i in os.walk(os.path.join('ORLFaceRecognition-PCA','att_faces')):\n",
        "  folder.append(i)\n",
        "\n",
        "for address, dirs, files in folder:\n",
        "    \n",
        "    for filename in fnmatch.filter(files, '*.pgm'):\n",
        "\n",
        "      img = cv2.imread(os.path.join(address,filename))\n",
        "      gray = cv2.cvtColor(img, cv2.COLOR_BGR2GRAY)    \n",
        "      gray.flatten().reshape(1, 10304)\n",
        "\n",
        "      if fnmatch.filter(filename, r'[0|6-9]*'):\n",
        "        test_matrix.append(gray.flatten().reshape(1, 10304))\n",
        "        test_labels.append(address.replace('ORLFaceRecognition-PCA/att_faces/',''))\n",
        "\n",
        "      if fnmatch.filter(filename, r'[1-5]*'):\n",
        "        train_matrix.append(gray.flatten().reshape(1, 10304))\n",
        "        train_labels.append(address.replace('ORLFaceRecognition-PCA/att_faces/',''))\n",
        "\n",
        "np_test_matrix = np.array(test_matrix)\n",
        "np_train_matrix = np.array(train_matrix)\n",
        "  \n",
        "result = np.empty((len(np_train_matrix),1)) \n",
        "predictions = np.empty((len(np_test_matrix),2),dtype=\"S3\") \n",
        "estimations = np.empty((len(np_test_matrix),1)) \n",
        "\n",
        "for i in range(len(np_test_matrix)):\n",
        "  for j in range(len(np_train_matrix)):\n",
        "    #print(mean_squared_error(row, in_row))\n",
        "    result[j] = mean_squared_error(np_test_matrix[i], np_train_matrix[j])\n",
        "  #print(train_labels[np.argmin(result)])\n",
        "  predictions[i][0] = train_labels[np.argmin(result)]\n",
        "  predictions[i][1] = test_labels[i]\n",
        "  estimations[i] = int(test_labels[i]==train_labels[np.argmin(result)])\n",
        "\n",
        "#print(predictions)\n",
        "print(estimations.sum()/len(estimations))\n"
      ],
      "execution_count": 37,
      "outputs": [
        {
          "output_type": "stream",
          "text": [
            "0.97\n"
          ],
          "name": "stdout"
        }
      ]
    }
  ]
}
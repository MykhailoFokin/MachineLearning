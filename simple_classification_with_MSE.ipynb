{
  "nbformat": 4,
  "nbformat_minor": 0,
  "metadata": {
    "colab": {
      "name": "simple_classification_with_MSE.ipynb",
      "provenance": [],
      "collapsed_sections": [],
      "include_colab_link": true
    },
    "kernelspec": {
      "name": "python3",
      "display_name": "Python 3"
    }
  },
  "cells": [
    {
      "cell_type": "markdown",
      "metadata": {
        "id": "view-in-github",
        "colab_type": "text"
      },
      "source": [
        "<a href=\"https://colab.research.google.com/github/MykhailoFokin/MachineLearning/blob/Dev/simple_classification_with_MSE.ipynb\" target=\"_parent\"><img src=\"https://colab.research.google.com/assets/colab-badge.svg\" alt=\"Open In Colab\"/></a>"
      ]
    },
    {
      "cell_type": "code",
      "metadata": {
        "id": "iyPNlcb6nKgy",
        "colab_type": "code",
        "colab": {}
      },
      "source": [
        "import os\n",
        "import cv2\n",
        "import fnmatch\n",
        "import numpy as np\n",
        "\n",
        "from sklearn.metrics import mean_squared_error\n",
        "from sklearn.metrics import mean_absolute_error\n",
        "from sklearn.metrics import mean_squared_log_error\n",
        "from sklearn.metrics import median_absolute_error\n",
        "from sklearn.metrics import explained_variance_score"
      ],
      "execution_count": 0,
      "outputs": []
    },
    {
      "cell_type": "code",
      "metadata": {
        "id": "bVOSURUpYlBh",
        "colab_type": "code",
        "outputId": "f3736991-7ae4-4b90-bf15-743a495e5e51",
        "colab": {
          "base_uri": "https://localhost:8080/",
          "height": 102
        }
      },
      "source": [
        "#Copy images from repo to colab\n",
        "!git clone https://github.com/SilvesterHsu/ORLFaceRecognition-PCA.git"
      ],
      "execution_count": 3,
      "outputs": [
        {
          "output_type": "stream",
          "text": [
            "Cloning into 'ORLFaceRecognition-PCA'...\n",
            "remote: Enumerating objects: 604, done.\u001b[K\n",
            "remote: Total 604 (delta 0), reused 0 (delta 0), pack-reused 604\u001b[K\n",
            "Receiving objects: 100% (604/604), 3.59 MiB | 5.58 MiB/s, done.\n",
            "Resolving deltas: 100% (93/93), done.\n"
          ],
          "name": "stdout"
        }
      ]
    },
    {
      "cell_type": "code",
      "metadata": {
        "id": "OeWSRAG2l6xx",
        "colab_type": "code",
        "outputId": "3188a102-d841-4a30-87e3-33b44a5c2251",
        "colab": {
          "base_uri": "https://localhost:8080/",
          "height": 119
        }
      },
      "source": [
        "test_matrix = []\n",
        "train_matrix = []\n",
        "\n",
        "test_labels = []\n",
        "train_labels = []\n",
        "\n",
        "# read folder structure with files and put it to collection\n",
        "folder = []\n",
        "for i in os.walk(os.path.join('ORLFaceRecognition-PCA','att_faces')):\n",
        "  folder.append(i)\n",
        "\n",
        "for address, dirs, files in folder:\n",
        "    \n",
        "    for filename in fnmatch.filter(files, '*.pgm'):\n",
        "\n",
        "      img = cv2.imread(os.path.join(address,filename))\n",
        "      gray = cv2.cvtColor(img, cv2.COLOR_BGR2GRAY)    \n",
        "      gray.flatten().reshape(1, 10304)\n",
        "      person = address.replace('ORLFaceRecognition-PCA/att_faces/','')\n",
        "\n",
        "      # r'[0|8-9]*'\n",
        "      if fnmatch.filter(filename, r'[0|9]*'):\n",
        "        test_matrix.append(gray.flatten().reshape(1, 10304))\n",
        "        test_labels.append(person)\n",
        "      else:\n",
        "      #if fnmatch.filter(filename, r'[1-5]*'):\n",
        "        train_matrix.append(gray.flatten().reshape(1, 10304))\n",
        "        train_labels.append(person)\n",
        "\n",
        "np_test_matrix = np.array(test_matrix)\n",
        "np_train_matrix = np.array(train_matrix)\n",
        "  \n",
        "# Different deviation results\n",
        "result_mse = np.empty((len(np_train_matrix),1))     # mean_squared_error\n",
        "result_mae = np.empty((len(np_train_matrix),1))     # mean_absolute_error\n",
        "result_msle = np.empty((len(np_train_matrix),1))    # mean_squared_log_error\n",
        "result_evs = np.empty((len(np_train_matrix),1))     # explained_variance_score\n",
        "result_std = np.empty((len(np_train_matrix),1))     # standart deviance\n",
        "\n",
        "predictions = np.empty((len(np_test_matrix),6),dtype=\"S3\") \n",
        "\n",
        "estimations_mse = np.empty((len(np_test_matrix),1)) \n",
        "estimations_mae = np.empty((len(np_test_matrix),1)) \n",
        "estimations_msle = np.empty((len(np_test_matrix),1)) \n",
        "estimations_evs = np.empty((len(np_test_matrix),1)) \n",
        "estimations_std = np.empty((len(np_test_matrix),1))\n",
        "\n",
        "for i in range(len(np_test_matrix)):\n",
        "  \n",
        "  for j in range(len(np_train_matrix)):\n",
        "    result_mse[j] = mean_squared_error(np_test_matrix[i], np_train_matrix[j])\n",
        "    result_mae[j] = mean_absolute_error(np_test_matrix[i], np_train_matrix[j])\n",
        "    result_msle[j] = mean_squared_log_error(np_test_matrix[i], np_train_matrix[j])\n",
        "    result_evs[j] = explained_variance_score(np_test_matrix[i], np_train_matrix[j])\n",
        "    result_std[j] = np.sqrt(mean_squared_error(np_test_matrix[i], np_train_matrix[j]))\n",
        "  \n",
        "  # write source labes with predicted ones\n",
        "  # comparing predicted and source label in estimation array\n",
        "  #print(train_labels[np.argmin(result_mse)])\n",
        "  predictions[i][0] = test_labels[i]\n",
        "  predictions[i][1] = train_labels[np.argmin(result_mse)]\n",
        "  predictions[i][2] = train_labels[np.argmin(result_mae)]\n",
        "  predictions[i][3] = train_labels[np.argmin(result_msle)]\n",
        "  predictions[i][4] = train_labels[np.argmin(result_evs)]\n",
        "  predictions[i][5] = train_labels[np.argmin(result_std)]\n",
        "\n",
        "  estimations_mse[i] = int(test_labels[i]==train_labels[np.argmin(result_mse)])\n",
        "  estimations_mae[i] = int(test_labels[i]==train_labels[np.argmin(result_mae)])\n",
        "  estimations_msle[i] = int(test_labels[i]==train_labels[np.argmin(result_msle)])\n",
        "  estimations_evs[i] = int(test_labels[i]==train_labels[np.argmin(result_evs)])\n",
        "  estimations_std[i] = int(test_labels[i]==train_labels[np.argmin(result_std)])\n",
        "\n",
        "#print(predictions)\n",
        "estimation_result_mse = estimations_mse.sum()/len(estimations_mse)\n",
        "estimation_result_mae = estimations_mae.sum()/len(estimations_mae)\n",
        "estimation_result_msle = estimations_msle.sum()/len(estimations_msle)\n",
        "estimation_result_evs = estimations_evs.sum()/len(estimations_evs)\n",
        "estimation_result_std = estimations_std.sum()/len(estimations_std)\n",
        "\n",
        "#print(\"Estimation for MSE: {} ; MAE: {} ; MSLE: {} ; EVS: {} ; STD: {} ;\"\n",
        "#.format(estimation_result_mse, estimation_result_mae, estimation_result_msle, estimation_result_evs, estimation_result_std))\n",
        "\n",
        "#print(\"MSE: {}\", estimation_result_mse)\n",
        "#print(\"MAE: {}\", estimation_result_mae)\n",
        "#print(\"MSLE: {}\", estimation_result_msle)\n",
        "#print(\"EVS: {}\", estimation_result_evs)\n",
        "#print(\"STD: {}\", estimation_result_std)\n",
        "\n",
        "SCORES = dict(mean_squared_error       = estimation_result_mse,\n",
        "              mean_absolute_error      = estimation_result_mae,\n",
        "              mean_squared_log_error   = estimation_result_msle,\n",
        "              explained_variance_score = estimation_result_evs,\n",
        "              standart_square_deviance = estimation_result_std)\n",
        "\n",
        "print(SCORES)\n",
        "\n",
        "#print(estimations_mse.sum()/len(estimations_mse))"
      ],
      "execution_count": 13,
      "outputs": [
        {
          "output_type": "stream",
          "text": [
            "MSE: {} 1.0\n",
            "MAE: {} 0.075\n",
            "MSLE: {} 0.925\n",
            "EVS: {} 0.025\n",
            "STD: {} 1.0\n",
            "{'mean_squared_error': 1.0, 'mean_absolute_error': 0.075, 'mean_squared_log_error': 0.925, 'explained_variance_score': 0.025, 'standart_square_deviance': 1.0}\n"
          ],
          "name": "stdout"
        }
      ]
    }
  ]
}